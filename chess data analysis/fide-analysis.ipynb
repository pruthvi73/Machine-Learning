{
 "cells": [
  {
   "cell_type": "code",
   "execution_count": 6,
   "metadata": {},
   "outputs": [],
   "source": [
    "import pandas as pd\n",
    "import numpy as np"
   ]
  },
  {
   "cell_type": "code",
   "execution_count": 7,
   "metadata": {},
   "outputs": [
    {
     "data": {
      "text/plain": [
       "array(['g', 'wg', 'im', 'fm'], dtype=object)"
      ]
     },
     "execution_count": 7,
     "metadata": {},
     "output_type": "execute_result"
    }
   ],
   "source": [
    "fide = pd.read_csv('fide_historical.csv')\n",
    "fide['title'].unique()\n",
    "fide\n",
    "fide['title'].replace('m','im',inplace=True)\n",
    "fide['title'].replace('f','fm',inplace=True)\n",
    "fide['title'].unique()"
   ]
  },
  {
   "cell_type": "code",
   "execution_count": 8,
   "metadata": {},
   "outputs": [
    {
     "data": {
      "text/html": [
       "<div>\n",
       "<style scoped>\n",
       "    .dataframe tbody tr th:only-of-type {\n",
       "        vertical-align: middle;\n",
       "    }\n",
       "\n",
       "    .dataframe tbody tr th {\n",
       "        vertical-align: top;\n",
       "    }\n",
       "\n",
       "    .dataframe thead th {\n",
       "        text-align: right;\n",
       "    }\n",
       "</style>\n",
       "<table border=\"1\" class=\"dataframe\">\n",
       "  <thead>\n",
       "    <tr style=\"text-align: right;\">\n",
       "      <th></th>\n",
       "      <th>ranking_date</th>\n",
       "      <th>rank</th>\n",
       "      <th>name</th>\n",
       "      <th>title</th>\n",
       "      <th>country</th>\n",
       "      <th>rating</th>\n",
       "      <th>games</th>\n",
       "      <th>birth_year</th>\n",
       "    </tr>\n",
       "  </thead>\n",
       "  <tbody>\n",
       "    <tr>\n",
       "      <th>2926</th>\n",
       "      <td>27-10-07</td>\n",
       "      <td>1</td>\n",
       "      <td>Anand, Viswanathan</td>\n",
       "      <td>g</td>\n",
       "      <td>IND</td>\n",
       "      <td>2801</td>\n",
       "      <td>21</td>\n",
       "      <td>1969</td>\n",
       "    </tr>\n",
       "    <tr>\n",
       "      <th>3128</th>\n",
       "      <td>27-04-08</td>\n",
       "      <td>1</td>\n",
       "      <td>Anand, Viswanathan</td>\n",
       "      <td>g</td>\n",
       "      <td>IND</td>\n",
       "      <td>2803</td>\n",
       "      <td>27</td>\n",
       "      <td>1969</td>\n",
       "    </tr>\n",
       "    <tr>\n",
       "      <th>4439</th>\n",
       "      <td>27-11-10</td>\n",
       "      <td>1</td>\n",
       "      <td>Anand, Viswanathan</td>\n",
       "      <td>g</td>\n",
       "      <td>IND</td>\n",
       "      <td>2804</td>\n",
       "      <td>6</td>\n",
       "      <td>1969</td>\n",
       "    </tr>\n",
       "    <tr>\n",
       "      <th>4643</th>\n",
       "      <td>27-03-11</td>\n",
       "      <td>1</td>\n",
       "      <td>Anand, Viswanathan</td>\n",
       "      <td>g</td>\n",
       "      <td>IND</td>\n",
       "      <td>2817</td>\n",
       "      <td>13</td>\n",
       "      <td>1969</td>\n",
       "    </tr>\n",
       "    <tr>\n",
       "      <th>4743</th>\n",
       "      <td>27-05-11</td>\n",
       "      <td>1</td>\n",
       "      <td>Anand, Viswanathan</td>\n",
       "      <td>g</td>\n",
       "      <td>IND</td>\n",
       "      <td>2817</td>\n",
       "      <td>0</td>\n",
       "      <td>1969</td>\n",
       "    </tr>\n",
       "  </tbody>\n",
       "</table>\n",
       "</div>"
      ],
      "text/plain": [
       "     ranking_date  rank                name title country  rating  games  \\\n",
       "2926     27-10-07     1  Anand, Viswanathan     g     IND    2801     21   \n",
       "3128     27-04-08     1  Anand, Viswanathan     g     IND    2803     27   \n",
       "4439     27-11-10     1  Anand, Viswanathan     g     IND    2804      6   \n",
       "4643     27-03-11     1  Anand, Viswanathan     g     IND    2817     13   \n",
       "4743     27-05-11     1  Anand, Viswanathan     g     IND    2817      0   \n",
       "\n",
       "      birth_year  \n",
       "2926        1969  \n",
       "3128        1969  \n",
       "4439        1969  \n",
       "4643        1969  \n",
       "4743        1969  "
      ]
     },
     "execution_count": 8,
     "metadata": {},
     "output_type": "execute_result"
    }
   ],
   "source": [
    "index0 = fide[(fide['name']=='Anand, Viswanathan')&(fide['rank']== 1)&(fide['rating']>2800)]\n",
    "index0"
   ]
  },
  {
   "cell_type": "code",
   "execution_count": null,
   "metadata": {},
   "outputs": [],
   "source": []
  }
 ],
 "metadata": {
  "kernelspec": {
   "display_name": "Python 3",
   "language": "python",
   "name": "python3"
  },
  "language_info": {
   "codemirror_mode": {
    "name": "ipython",
    "version": 3
   },
   "file_extension": ".py",
   "mimetype": "text/x-python",
   "name": "python",
   "nbconvert_exporter": "python",
   "pygments_lexer": "ipython3",
   "version": "3.11.8"
  }
 },
 "nbformat": 4,
 "nbformat_minor": 2
}

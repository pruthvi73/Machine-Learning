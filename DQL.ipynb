{
  "cells": [
    {
      "cell_type": "markdown",
      "metadata": {
        "id": "lJw61-LjsXis"
      },
      "source": [
        "# Deep Q-Learning"
      ]
    },
    {
      "cell_type": "markdown",
      "metadata": {
        "id": "RsKeviKysXit"
      },
      "source": [
        "For this We will implement the Deep Q-Learning algorithm with Experience Replay as described in breakthrough paper __\"Playing Atari with Deep Reinforcement Learning\"__. We will be testing the Q-Learning algorithm in the __\"Highway Environment\"__. In this environment our Q-Learning agent will operate a green car on a highway with other cars. The agent is penalized for hitting other cars and rewarded for driving faster."
      ]
    },
    {
      "cell_type": "code",
      "execution_count": null,
      "metadata": {
        "colab": {
          "base_uri": "https://localhost:8080/"
        },
        "id": "ZZzQ8yjVdi3E",
        "outputId": "4d17a969-14b6-466e-909d-5dfce0764d34"
      },
      "outputs": [
        {
          "name": "stdout",
          "output_type": "stream",
          "text": [
            "\r0% [Working]\r            \rGet:1 http://security.ubuntu.com/ubuntu jammy-security InRelease [110 kB]\n",
            "\r0% [Connecting to archive.ubuntu.com (185.125.190.39)] [1 InRelease 12.7 kB/110\r                                                                               \rGet:2 https://cloud.r-project.org/bin/linux/ubuntu jammy-cran40/ InRelease [3,626 B]\n",
            "Hit:3 https://developer.download.nvidia.com/compute/cuda/repos/ubuntu2204/x86_64  InRelease\n",
            "Hit:4 http://archive.ubuntu.com/ubuntu jammy InRelease\n",
            "Get:5 http://archive.ubuntu.com/ubuntu jammy-updates InRelease [119 kB]\n",
            "Get:6 https://cloud.r-project.org/bin/linux/ubuntu jammy-cran40/ Packages [47.2 kB]\n",
            "Get:7 http://security.ubuntu.com/ubuntu jammy-security/main amd64 Packages [1,248 kB]\n",
            "Get:8 https://ppa.launchpadcontent.net/c2d4u.team/c2d4u4.0+/ubuntu jammy InRelease [18.1 kB]\n",
            "Get:9 http://security.ubuntu.com/ubuntu jammy-security/universe amd64 Packages [1,015 kB]\n",
            "Hit:10 https://ppa.launchpadcontent.net/deadsnakes/ppa/ubuntu jammy InRelease\n",
            "Get:11 http://security.ubuntu.com/ubuntu jammy-security/restricted amd64 Packages [1,467 kB]\n",
            "Hit:12 http://archive.ubuntu.com/ubuntu jammy-backports InRelease\n",
            "Get:13 https://ppa.launchpadcontent.net/graphics-drivers/ppa/ubuntu jammy InRelease [24.3 kB]\n",
            "Hit:14 https://ppa.launchpadcontent.net/ubuntugis/ppa/ubuntu jammy InRelease\n",
            "Get:15 https://ppa.launchpadcontent.net/c2d4u.team/c2d4u4.0+/ubuntu jammy/main Sources [2,244 kB]\n",
            "Get:16 http://archive.ubuntu.com/ubuntu jammy-updates/main amd64 Packages [1,520 kB]\n",
            "Get:17 http://archive.ubuntu.com/ubuntu jammy-updates/restricted amd64 Packages [1,498 kB]\n",
            "Get:18 https://ppa.launchpadcontent.net/c2d4u.team/c2d4u4.0+/ubuntu jammy/main amd64 Packages [1,152 kB]\n",
            "Get:19 https://ppa.launchpadcontent.net/graphics-drivers/ppa/ubuntu jammy/main amd64 Packages [39.5 kB]\n",
            "Get:20 http://archive.ubuntu.com/ubuntu jammy-updates/universe amd64 Packages [1,284 kB]\n",
            "Fetched 11.8 MB in 2s (5,410 kB/s)\n",
            "Reading package lists... Done\n",
            "Reading package lists... Done\n",
            "Building dependency tree... Done\n",
            "Reading state information... Done\n",
            "The following additional packages will be installed:\n",
            "  apparmor libfontenc1 libfuse3-3 liblzo2-2 libudev1 libxfont2 libxkbfile1 snapd squashfs-tools\n",
            "  systemd-hwe-hwdb udev x11-xkb-utils xfonts-base xfonts-encodings xfonts-utils xserver-common\n",
            "Suggested packages:\n",
            "  apparmor-profiles-extra apparmor-utils fuse3 zenity | kdialog\n",
            "The following NEW packages will be installed:\n",
            "  apparmor chromium-browser libfontenc1 libfuse3-3 liblzo2-2 libxfont2 libxkbfile1 snapd\n",
            "  squashfs-tools systemd-hwe-hwdb udev x11-xkb-utils xfonts-base xfonts-encodings xfonts-utils\n",
            "  xserver-common xvfb\n",
            "The following packages will be upgraded:\n",
            "  libudev1\n",
            "1 upgraded, 17 newly installed, 0 to remove and 37 not upgraded.\n",
            "Need to get 34.2 MB of archives.\n",
            "After this operation, 128 MB of additional disk space will be used.\n",
            "Get:1 http://archive.ubuntu.com/ubuntu jammy-updates/main amd64 apparmor amd64 3.0.4-2ubuntu2.3 [595 kB]\n",
            "Get:2 http://archive.ubuntu.com/ubuntu jammy/main amd64 liblzo2-2 amd64 2.10-2build3 [53.7 kB]\n",
            "Get:3 http://archive.ubuntu.com/ubuntu jammy/main amd64 squashfs-tools amd64 1:4.5-3build1 [159 kB]\n",
            "Get:4 http://archive.ubuntu.com/ubuntu jammy-updates/main amd64 libudev1 amd64 249.11-0ubuntu3.11 [78.0 kB]\n",
            "Get:5 http://archive.ubuntu.com/ubuntu jammy-updates/main amd64 udev amd64 249.11-0ubuntu3.11 [1,557 kB]\n",
            "Get:6 http://archive.ubuntu.com/ubuntu jammy/main amd64 libfuse3-3 amd64 3.10.5-1build1 [81.2 kB]\n",
            "Get:7 http://archive.ubuntu.com/ubuntu jammy-updates/main amd64 snapd amd64 2.58+22.04.1 [23.8 MB]\n",
            "Get:8 http://archive.ubuntu.com/ubuntu jammy-updates/universe amd64 chromium-browser amd64 1:85.0.4183.83-0ubuntu2.22.04.1 [49.2 kB]\n",
            "Get:9 http://archive.ubuntu.com/ubuntu jammy/main amd64 libfontenc1 amd64 1:1.1.4-1build3 [14.7 kB]\n",
            "Get:10 http://archive.ubuntu.com/ubuntu jammy/main amd64 libxfont2 amd64 1:2.0.5-1build1 [94.5 kB]\n",
            "Get:11 http://archive.ubuntu.com/ubuntu jammy/main amd64 libxkbfile1 amd64 1:1.1.0-1build3 [71.8 kB]\n",
            "Get:12 http://archive.ubuntu.com/ubuntu jammy-updates/main amd64 systemd-hwe-hwdb all 249.11.3 [2,908 B]\n",
            "Get:13 http://archive.ubuntu.com/ubuntu jammy/main amd64 x11-xkb-utils amd64 7.7+5build4 [172 kB]\n",
            "Get:14 http://archive.ubuntu.com/ubuntu jammy/main amd64 xfonts-encodings all 1:1.0.5-0ubuntu2 [578 kB]\n",
            "Get:15 http://archive.ubuntu.com/ubuntu jammy/main amd64 xfonts-utils amd64 1:7.7+6build2 [94.6 kB]\n",
            "Get:16 http://archive.ubuntu.com/ubuntu jammy/main amd64 xfonts-base all 1:1.0.5 [5,896 kB]\n",
            "Get:17 http://archive.ubuntu.com/ubuntu jammy-updates/main amd64 xserver-common all 2:21.1.4-2ubuntu1.7~22.04.2 [28.1 kB]\n",
            "Get:18 http://archive.ubuntu.com/ubuntu jammy-updates/universe amd64 xvfb amd64 2:21.1.4-2ubuntu1.7~22.04.2 [864 kB]\n",
            "Fetched 34.2 MB in 1s (48.5 MB/s)\n",
            "Preconfiguring packages ...\n",
            "Selecting previously unselected package apparmor.\n",
            "(Reading database ... 120880 files and directories currently installed.)\n",
            "Preparing to unpack .../apparmor_3.0.4-2ubuntu2.3_amd64.deb ...\n",
            "Unpacking apparmor (3.0.4-2ubuntu2.3) ...\n",
            "Selecting previously unselected package liblzo2-2:amd64.\n",
            "Preparing to unpack .../liblzo2-2_2.10-2build3_amd64.deb ...\n",
            "Unpacking liblzo2-2:amd64 (2.10-2build3) ...\n",
            "Selecting previously unselected package squashfs-tools.\n",
            "Preparing to unpack .../squashfs-tools_1%3a4.5-3build1_amd64.deb ...\n",
            "Unpacking squashfs-tools (1:4.5-3build1) ...\n",
            "Preparing to unpack .../libudev1_249.11-0ubuntu3.11_amd64.deb ...\n",
            "Unpacking libudev1:amd64 (249.11-0ubuntu3.11) over (249.11-0ubuntu3.10) ...\n",
            "Setting up libudev1:amd64 (249.11-0ubuntu3.11) ...\n",
            "Selecting previously unselected package udev.\n",
            "(Reading database ... 121088 files and directories currently installed.)\n",
            "Preparing to unpack .../udev_249.11-0ubuntu3.11_amd64.deb ...\n",
            "Unpacking udev (249.11-0ubuntu3.11) ...\n",
            "Selecting previously unselected package libfuse3-3:amd64.\n",
            "Preparing to unpack .../libfuse3-3_3.10.5-1build1_amd64.deb ...\n",
            "Unpacking libfuse3-3:amd64 (3.10.5-1build1) ...\n",
            "Selecting previously unselected package snapd.\n",
            "Preparing to unpack .../snapd_2.58+22.04.1_amd64.deb ...\n",
            "Unpacking snapd (2.58+22.04.1) ...\n",
            "Setting up apparmor (3.0.4-2ubuntu2.3) ...\n",
            "Created symlink /etc/systemd/system/sysinit.target.wants/apparmor.service → /lib/systemd/system/apparmor.service.\n",
            "Setting up liblzo2-2:amd64 (2.10-2build3) ...\n",
            "Setting up squashfs-tools (1:4.5-3build1) ...\n",
            "Setting up udev (249.11-0ubuntu3.11) ...\n",
            "invoke-rc.d: could not determine current runlevel\n",
            "invoke-rc.d: policy-rc.d denied execution of start.\n",
            "Setting up libfuse3-3:amd64 (3.10.5-1build1) ...\n",
            "Setting up snapd (2.58+22.04.1) ...\n",
            "Created symlink /etc/systemd/system/multi-user.target.wants/snapd.aa-prompt-listener.service → /lib/systemd/system/snapd.aa-prompt-listener.service.\n",
            "Created symlink /etc/systemd/system/multi-user.target.wants/snapd.apparmor.service → /lib/systemd/system/snapd.apparmor.service.\n",
            "Created symlink /etc/systemd/system/multi-user.target.wants/snapd.autoimport.service → /lib/systemd/system/snapd.autoimport.service.\n",
            "Created symlink /etc/systemd/system/multi-user.target.wants/snapd.core-fixup.service → /lib/systemd/system/snapd.core-fixup.service.\n",
            "Created symlink /etc/systemd/system/multi-user.target.wants/snapd.recovery-chooser-trigger.service → /lib/systemd/system/snapd.recovery-chooser-trigger.service.\n",
            "Created symlink /etc/systemd/system/multi-user.target.wants/snapd.seeded.service → /lib/systemd/system/snapd.seeded.service.\n",
            "Created symlink /etc/systemd/system/cloud-final.service.wants/snapd.seeded.service → /lib/systemd/system/snapd.seeded.service.\n",
            "Unit /lib/systemd/system/snapd.seeded.service is added as a dependency to a non-existent unit cloud-final.service.\n",
            "Created symlink /etc/systemd/system/multi-user.target.wants/snapd.service → /lib/systemd/system/snapd.service.\n",
            "Created symlink /etc/systemd/system/timers.target.wants/snapd.snap-repair.timer → /lib/systemd/system/snapd.snap-repair.timer.\n",
            "Created symlink /etc/systemd/system/sockets.target.wants/snapd.socket → /lib/systemd/system/snapd.socket.\n",
            "Created symlink /etc/systemd/system/final.target.wants/snapd.system-shutdown.service → /lib/systemd/system/snapd.system-shutdown.service.\n",
            "Selecting previously unselected package chromium-browser.\n",
            "(Reading database ... 121321 files and directories currently installed.)\n",
            "Preparing to unpack .../00-chromium-browser_1%3a85.0.4183.83-0ubuntu2.22.04.1_amd64.deb ...\n",
            "=> Installing the chromium snap\n",
            "==> Checking connectivity with the snap store\n",
            "===> System doesn't have a working snapd, skipping\n",
            "Unpacking chromium-browser (1:85.0.4183.83-0ubuntu2.22.04.1) ...\n",
            "Selecting previously unselected package libfontenc1:amd64.\n",
            "Preparing to unpack .../01-libfontenc1_1%3a1.1.4-1build3_amd64.deb ...\n",
            "Unpacking libfontenc1:amd64 (1:1.1.4-1build3) ...\n",
            "Selecting previously unselected package libxfont2:amd64.\n",
            "Preparing to unpack .../02-libxfont2_1%3a2.0.5-1build1_amd64.deb ...\n",
            "Unpacking libxfont2:amd64 (1:2.0.5-1build1) ...\n",
            "Selecting previously unselected package libxkbfile1:amd64.\n",
            "Preparing to unpack .../03-libxkbfile1_1%3a1.1.0-1build3_amd64.deb ...\n",
            "Unpacking libxkbfile1:amd64 (1:1.1.0-1build3) ...\n",
            "Selecting previously unselected package systemd-hwe-hwdb.\n",
            "Preparing to unpack .../04-systemd-hwe-hwdb_249.11.3_all.deb ...\n",
            "Unpacking systemd-hwe-hwdb (249.11.3) ...\n",
            "Selecting previously unselected package x11-xkb-utils.\n",
            "Preparing to unpack .../05-x11-xkb-utils_7.7+5build4_amd64.deb ...\n",
            "Unpacking x11-xkb-utils (7.7+5build4) ...\n",
            "Selecting previously unselected package xfonts-encodings.\n",
            "Preparing to unpack .../06-xfonts-encodings_1%3a1.0.5-0ubuntu2_all.deb ...\n",
            "Unpacking xfonts-encodings (1:1.0.5-0ubuntu2) ...\n",
            "Selecting previously unselected package xfonts-utils.\n",
            "Preparing to unpack .../07-xfonts-utils_1%3a7.7+6build2_amd64.deb ...\n",
            "Unpacking xfonts-utils (1:7.7+6build2) ...\n",
            "Selecting previously unselected package xfonts-base.\n",
            "Preparing to unpack .../08-xfonts-base_1%3a1.0.5_all.deb ...\n",
            "Unpacking xfonts-base (1:1.0.5) ...\n",
            "Selecting previously unselected package xserver-common.\n",
            "Preparing to unpack .../09-xserver-common_2%3a21.1.4-2ubuntu1.7~22.04.2_all.deb ...\n",
            "Unpacking xserver-common (2:21.1.4-2ubuntu1.7~22.04.2) ...\n",
            "Selecting previously unselected package xvfb.\n",
            "Preparing to unpack .../10-xvfb_2%3a21.1.4-2ubuntu1.7~22.04.2_amd64.deb ...\n",
            "Unpacking xvfb (2:21.1.4-2ubuntu1.7~22.04.2) ...\n",
            "Setting up libfontenc1:amd64 (1:1.1.4-1build3) ...\n",
            "Setting up xfonts-encodings (1:1.0.5-0ubuntu2) ...\n",
            "Setting up systemd-hwe-hwdb (249.11.3) ...\n",
            "Setting up chromium-browser (1:85.0.4183.83-0ubuntu2.22.04.1) ...\n",
            "update-alternatives: using /usr/bin/chromium-browser to provide /usr/bin/x-www-browser (x-www-browser) in auto mode\n",
            "update-alternatives: using /usr/bin/chromium-browser to provide /usr/bin/gnome-www-browser (gnome-www-browser) in auto mode\n",
            "Setting up libxkbfile1:amd64 (1:1.1.0-1build3) ...\n",
            "Setting up libxfont2:amd64 (1:2.0.5-1build1) ...\n",
            "Setting up x11-xkb-utils (7.7+5build4) ...\n",
            "Setting up xfonts-utils (1:7.7+6build2) ...\n",
            "Setting up xfonts-base (1:1.0.5) ...\n",
            "Setting up xserver-common (2:21.1.4-2ubuntu1.7~22.04.2) ...\n",
            "Setting up xvfb (2:21.1.4-2ubuntu1.7~22.04.2) ...\n",
            "Processing triggers for man-db (2.10.2-1) ...\n",
            "Processing triggers for dbus (1.12.20-2ubuntu4.1) ...\n",
            "Processing triggers for udev (249.11-0ubuntu3.11) ...\n",
            "Processing triggers for fontconfig (2.13.1-4.2ubuntu5) ...\n",
            "Processing triggers for hicolor-icon-theme (0.17-2) ...\n",
            "Processing triggers for libc-bin (2.35-0ubuntu3.4) ...\n",
            "/sbin/ldconfig.real: /usr/local/lib/libtbbbind.so.3 is not a symbolic link\n",
            "\n",
            "/sbin/ldconfig.real: /usr/local/lib/libtbbmalloc.so.2 is not a symbolic link\n",
            "\n",
            "/sbin/ldconfig.real: /usr/local/lib/libtbbbind_2_5.so.3 is not a symbolic link\n",
            "\n",
            "/sbin/ldconfig.real: /usr/local/lib/libtbb.so.12 is not a symbolic link\n",
            "\n",
            "/sbin/ldconfig.real: /usr/local/lib/libtbbmalloc_proxy.so.2 is not a symbolic link\n",
            "\n",
            "/sbin/ldconfig.real: /usr/local/lib/libtbbbind_2_0.so.3 is not a symbolic link\n",
            "\n"
          ]
        }
      ],
      "source": [
        "# Download needed librarys\n",
        "# If running outside of Google Colab, these lines may not be needed\n",
        "# Install environment and libraries to render environment\n",
        "!sudo apt-get update\n",
        "!pip install git+https://github.com/DLR-RM/stable-baselines3 &> /dev/null\n",
        "!pip install highway-env &> /dev/null\n",
        "!pip install xvfbwrapper &> /dev/null\n",
        "!apt-get install -y xvfb python-opengl x11-utils ffmpeg build-essential python-dev swig python-pygame &> /dev/null\n",
        "!pip install PyVirtualDisplay &> /dev/null\n",
        "\n",
        "\n",
        "# install dependencies\n",
        "!apt install chromium-browser xvfb"
      ]
    },
    {
      "cell_type": "code",
      "execution_count": null,
      "metadata": {
        "colab": {
          "base_uri": "https://localhost:8080/"
        },
        "id": "o0YZeBsisXiv",
        "outputId": "e442007f-b325-42e2-a019-c77e38aaa378"
      },
      "outputs": [
        {
          "name": "stdout",
          "output_type": "stream",
          "text": [
            "[Errno 2] No such file or directory: 'Your/Assignment/Directory'\n",
            "/content\n"
          ]
        }
      ],
      "source": [
        "#############################################################################\n",
        "# TODO: Edit the path to your assignment folder                             #\n",
        "#############################################################################\n",
        "%cd \"Your/Assignment/Directory\"\n",
        "#############################################################################"
      ]
    },
    {
      "cell_type": "code",
      "execution_count": null,
      "metadata": {
        "id": "EgSM1zJ0dnaz"
      },
      "outputs": [],
      "source": [
        "#importing needed libraries\n",
        "#DO NOT ADD OR MODIFY THIS CELL\n",
        "from IPython import display as ipythondisplay\n",
        "from pyvirtualdisplay import Display\n",
        "from gym.wrappers import record_video\n",
        "from pathlib import Path\n",
        "import base64\n",
        "import gym\n",
        "import highway_env\n",
        "from matplotlib import pyplot as plt\n",
        "from tqdm import tqdm\n",
        "import os\n",
        "import gymnasium as gym\n",
        "%matplotlib inline\n"
      ]
    },
    {
      "cell_type": "markdown",
      "metadata": {
        "id": "aGhKhGFblXci"
      },
      "source": [
        "In the following cells you will be shown the observations from the environment that will be fed into our Q-Learning agent. We give a stack of 4 images to the agent. By passing stacks of images, we are able to give the agent information about the velocity of the agent and other cars in the environment.\n",
        "<br> __No modification of this cell is needed__"
      ]
    },
    {
      "cell_type": "code",
      "execution_count": null,
      "metadata": {
        "colab": {
          "base_uri": "https://localhost:8080/",
          "height": 737
        },
        "id": "jpIOsGGLdqx5",
        "outputId": "daf2fee5-62fc-4888-f931-d0d3c5a63112"
      },
      "outputs": [
        {
          "name": "stderr",
          "output_type": "stream",
          "text": [
            "/usr/local/lib/python3.10/dist-packages/ipykernel/ipkernel.py:283: DeprecationWarning: `should_run_async` will not call `transform_cell` automatically in the future. Please pass the result to `transformed_cell` argument and any exception that happen during thetransform in `preprocessing_exc_tuple` in IPython 7.17 and above.\n",
            "  and should_run_async(code)\n",
            "/usr/local/lib/python3.10/dist-packages/gymnasium/core.py:311: UserWarning: \u001b[33mWARN: env.configure to get variables from other wrappers is deprecated and will be removed in v1.0, to get this variable you can do `env.unwrapped.configure` for environment variables or `env.get_wrapper_attr('configure')` that will search the reminding wrappers.\u001b[0m\n",
            "  logger.warn(\n",
            "/usr/local/lib/python3.10/dist-packages/gymnasium/core.py:311: UserWarning: \u001b[33mWARN: env.action_type to get variables from other wrappers is deprecated and will be removed in v1.0, to get this variable you can do `env.unwrapped.action_type` for environment variables or `env.get_wrapper_attr('action_type')` that will search the reminding wrappers.\u001b[0m\n",
            "  logger.warn(\n"
          ]
        },
        {
          "data": {
            "image/png": "[encoded data removed]",
            "text/plain": [
              "<Figure size 1200x500 with 4 Axes>"
            ]
          },
          "metadata": {},
          "output_type": "display_data"
        },
        {
          "data": {
            "image/png": "[encoded data removed]",
            "text/plain": [
              "<Figure size 1200x500 with 4 Axes>"
            ]
          },
          "metadata": {},
          "output_type": "display_data"
        },
        {
          "data": {
            "image/png": "[encoded data removed]",
            "text/plain": [
              "<Figure size 1200x500 with 4 Axes>"
            ]
          },
          "metadata": {},
          "output_type": "display_data"
        },
        {
          "data": {
            "image/png": "[encoded data removed]",
            "text/plain": [
              "<Figure size 1200x500 with 4 Axes>"
            ]
          },
          "metadata": {},
          "output_type": "display_data"
        }
      ],
      "source": [
        "\n",
        "#DO NOT ADD OR MODIFY THIS CELL\n",
        "env=gym.make('highway-fast-v0', render_mode='rgb_array')\n",
        "config = {\n",
        "      \"observation\": {\n",
        "          \"type\": \"GrayscaleObservation\",\n",
        "          \"observation_shape\": (128, 64),\n",
        "          \"stack_size\": 4,\n",
        "          \"weights\": [0.2989, 0.5870, 0.1140],  # weights for RGB conversion\n",
        "          \"scaling\": 1.75,\n",
        "      },\n",
        "      \"policy_frequency\": 2\n",
        "  }\n",
        "env.configure(config)\n",
        "env.reset()\n",
        "for _ in range(4):\n",
        "    obs,_,_,_,_ = env.step(env.action_type.actions_indexes[\"FASTER\"])\n",
        "\n",
        "    _, axes = plt.subplots(ncols=4, figsize=(12, 5))\n",
        "    for i, ax in enumerate(axes.flat):\n",
        "        ax.imshow(obs[i, ...].T, cmap=plt.get_cmap('gray'))\n",
        "plt.show()"
      ]
    },
    {
      "cell_type": "markdown",
      "metadata": {
        "id": "LQGQO0vWlwRj"
      },
      "source": [
        "**What does this cell do?**\n",
        "\n",
        "This cell will show an agent taking __random actions__ in the environment. The green car is the agent.\n",
        "\n",
        "__By default, the cell is commented out.__\n",
        "\n",
        "**********************************************\n",
        "**Optional Instructions for Running the Cell**\n",
        "\n",
        "1. When running this cell for the first time, execute it to generate a sample video where the agent takes random actions.\n",
        "\n",
        "2. After running the cell and viewing the video, please comment out (disable) this cell.\n",
        "\n",
        "3. Restart the runtime by selecting \"Runtime\" -> \"Restart runtime\" from the top menu.\n",
        "\n",
        "4. Once the runtime is restarted, rerun the notebook starting from the beginning.\n",
        "\n",
        "\n",
        "**Why Is This Important?**\n",
        "\n",
        "Rendering videos consumes memory, and in the unpaid version of Colab, rendering both the sample and final videos in a single runtime session can lead to a crash due to memory limitations. To prevent this, it's important to comment out this cell after viewing the sample video, restart the runtime, and then rerun the code. This ensures that enough memory is available for rendering the final video.\n",
        "\n",
        "\n"
      ]
    },
    {
      "cell_type": "code",
      "execution_count": null,
      "metadata": {
        "colab": {
          "base_uri": "https://localhost:8080/",
          "height": 195
        },
        "id": "iMK1ZyyHd8pk",
        "outputId": "205bdd01-7a7f-439e-db60-4706270b2b10"
      },
      "outputs": [
        {
          "name": "stderr",
          "output_type": "stream",
          "text": [
            "/usr/local/lib/python3.10/dist-packages/ipykernel/ipkernel.py:283: DeprecationWarning: `should_run_async` will not call `transform_cell` automatically in the future. Please pass the result to `transformed_cell` argument and any exception that happen during thetransform in `preprocessing_exc_tuple` in IPython 7.17 and above.\n",
            "  and should_run_async(code)\n"
          ]
        },
        {
          "data": {
            "application/vnd.google.colaboratory.intrinsic+json": {
              "type": "string"
            },
            "text/plain": [
              "'\\nimport gymnasium as gym\\n#DO NOT ADD OR MODIFY THIS CELL\\ndef record_videos(env, path=\"videos\"):\\n    wrapped = record_video.RecordVideo(env, path, force=True, video_callable=lambda episode: True)\\n    # Capture intermediate frames\\n    env.unwrapped.set_record_video_wrapper(wrapped)\\n\\n    return wrapped\\n\\ndef show_videos(path=\"videos/random_actions\"):\\n    html = []\\n    for mp4 in Path(path).glob(\"*.mp4\"):\\n        video_b64 = base64.b64encode(mp4.read_bytes())\\n        html.append(\\'\\'\\'<video alt=\"{}\" autoplay\\n                      loop controls style=\"height: 400px;\">\\n                      <source src=\"data:video/mp4;base64,{}\" type=\"video/mp4\" />\\n                 </video>\\'\\'\\'.format(mp4, video_b64.decode(\\'ascii\\')))\\n    ipythondisplay.display(ipythondisplay.HTML(data=\"<br>\".join(html)))\\nfrom tqdm.notebook import trange\\nenv = gym.make(\"highway-fast-v0\", render_mode = \\'rgb_array\\')\\nenv.configure({\\n    \"observation\": {\\n        \"type\": \"GrayscaleObservation\",\\n        \"observation_shape\": (128, 64),\\n        \"stack_size\": 4,\\n        \"weights\": [0.2989, 0.5870, 0.1140],  # weights for RGB conversion\\n        \"scaling\": 1.75,\\n    },\\n})\\n\\nfrom pyvirtualdisplay import Display\\ndisplay = Display(visible=0, size=(400, 300))\\ndisplay.start()\\nfrom gym.wrappers import RecordVideo\\n\\ndef record_videos(env, path=\"videos/random_actions\"):\\n    wrapped = RecordVideo(env, path)\\n\\n    # Capture intermediate frames\\n    env.unwrapped.set_record_video_wrapper(wrapped)\\n\\n    return wrapped\\n\\n\\nenv = record_videos(env)\\nfor episode in trange(3, desc=\"Test episodes\"):\\n    obs, done = env.reset()[0], False\\n    while not done:\\n      action = env.action_space.sample()\\n      # print(action)\\n      print(env.step(int(action)))\\n      obs, reward, done, info = env.step(int(action))\\n      #obs, reward, done, info = env.step(env.action_type.actions_indexes[\"FASTER\"])\\nenv.close()\\nshow_videos()\\ndisplay.stop()\\n'"
            ]
          },
          "execution_count": 6,
          "metadata": {},
          "output_type": "execute_result"
        }
      ],
      "source": [
        "\"\"\"\n",
        "import gymnasium as gym\n",
        "#DO NOT ADD OR MODIFY THIS CELL\n",
        "def record_videos(env, path=\"videos\"):\n",
        "    wrapped = record_video.RecordVideo(env, path, force=True, video_callable=lambda episode: True)\n",
        "    # Capture intermediate frames\n",
        "    env.unwrapped.set_record_video_wrapper(wrapped)\n",
        "\n",
        "    return wrapped\n",
        "\n",
        "def show_videos(path=\"videos/random_actions\"):\n",
        "    html = []\n",
        "    for mp4 in Path(path).glob(\"*.mp4\"):\n",
        "        video_b64 = base64.b64encode(mp4.read_bytes())\n",
        "        html.append('''<video alt=\"{}\" autoplay\n",
        "                      loop controls style=\"height: 400px;\">\n",
        "                      <source src=\"data:video/mp4;base64,{}\" type=\"video/mp4\" />\n",
        "                 </video>'''.format(mp4, video_b64.decode('ascii')))\n",
        "    ipythondisplay.display(ipythondisplay.HTML(data=\"<br>\".join(html)))\n",
        "from tqdm.notebook import trange\n",
        "env = gym.make(\"highway-fast-v0\", render_mode = 'rgb_array')\n",
        "env.configure({\n",
        "    \"observation\": {\n",
        "        \"type\": \"GrayscaleObservation\",\n",
        "        \"observation_shape\": (128, 64),\n",
        "        \"stack_size\": 4,\n",
        "        \"weights\": [0.2989, 0.5870, 0.1140],  # weights for RGB conversion\n",
        "        \"scaling\": 1.75,\n",
        "    },\n",
        "})\n",
        "\n",
        "from pyvirtualdisplay import Display\n",
        "display = Display(visible=0, size=(400, 300))\n",
        "display.start()\n",
        "from gym.wrappers import RecordVideo\n",
        "\n",
        "def record_videos(env, path=\"videos/random_actions\"):\n",
        "    wrapped = RecordVideo(env, path)\n",
        "\n",
        "    # Capture intermediate frames\n",
        "    env.unwrapped.set_record_video_wrapper(wrapped)\n",
        "\n",
        "    return wrapped\n",
        "\n",
        "\n",
        "env = record_videos(env)\n",
        "for episode in trange(3, desc=\"Test episodes\"):\n",
        "    obs, done = env.reset()[0], False\n",
        "    while not done:\n",
        "      action = env.action_space.sample()\n",
        "      # print(action)\n",
        "      print(env.step(int(action)))\n",
        "      obs, reward, done, info = env.step(int(action))\n",
        "      #obs, reward, done, info = env.step(env.action_type.actions_indexes[\"FASTER\"])\n",
        "env.close()\n",
        "show_videos()\n",
        "display.stop()\n",
        "\"\"\""
      ]
    },
    {
      "cell_type": "markdown",
      "metadata": {
        "id": "eYnt2_fFl7bl"
      },
      "source": [
        "In this cell we define a small nueral network that we will use to aproximate the Q-Function.\n",
        "<br> __No modification of this cell is needed__"
      ]
    },
    {
      "cell_type": "code",
      "execution_count": null,
      "metadata": {
        "id": "JFmm2KIFduqV"
      },
      "outputs": [],
      "source": [
        "#DO NOT ADD OR MODIFY THIS CELL\n",
        "import torch\n",
        "from torch import nn\n",
        "class Network(torch.nn.Module):\n",
        "  def __init__(self):\n",
        "      super(Network, self).__init__()\n",
        "      n_input_channels = 4\n",
        "      self.cnn = nn.Sequential(\n",
        "          nn.Conv2d(n_input_channels, 32, kernel_size=8, stride=4, padding=0),\n",
        "          nn.ReLU(),\n",
        "          nn.Conv2d(32, 64, kernel_size=4, stride=2, padding=0),\n",
        "          nn.ReLU(),\n",
        "          nn.Conv2d(64, 64, kernel_size=3, stride=1, padding=0),\n",
        "          nn.ReLU(),\n",
        "          nn.Flatten(),\n",
        "          nn.Linear(3072,3072),\n",
        "          nn.ReLU(),\n",
        "          nn.Linear(3072,3072),\n",
        "          nn.ReLU(),\n",
        "          nn.Linear(3072,5),\n",
        "      )\n",
        "  def forward(self,x):\n",
        "    return self.cnn(x)\n"
      ]
    },
    {
      "cell_type": "markdown",
      "metadata": {
        "id": "CmnOXXhOmEe4"
      },
      "source": [
        "Experience replay implementation\n",
        "<br> __No modification of this cell is needed__"
      ]
    },
    {
      "cell_type": "code",
      "execution_count": null,
      "metadata": {
        "colab": {
          "base_uri": "https://localhost:8080/"
        },
        "id": "sKa-uTdEdwCT",
        "outputId": "d14b7caa-a1f7-47c6-a136-bdde8ca5c945"
      },
      "outputs": [
        {
          "name": "stderr",
          "output_type": "stream",
          "text": [
            "/usr/local/lib/python3.10/dist-packages/ipykernel/ipkernel.py:283: DeprecationWarning: `should_run_async` will not call `transform_cell` automatically in the future. Please pass the result to `transformed_cell` argument and any exception that happen during thetransform in `preprocessing_exc_tuple` in IPython 7.17 and above.\n",
            "  and should_run_async(code)\n"
          ]
        }
      ],
      "source": [
        "import collections\n",
        "import numpy as np\n",
        "\n",
        "#datastructure for 1 experience\n",
        "Experience = collections.namedtuple(\"Experience\", field_names=(\"state\",\"action\", \"reward\", \"done\", \"new_state\"))\n",
        "\n",
        "#store and sample multiple experiences of type Experience\n",
        "class ExperienceReplay:\n",
        "  def __init__(self, capacity):\n",
        "      self.buffer = collections.deque(maxlen=capacity)\n",
        "\n",
        "  def __len__(self):\n",
        "      return len(self.buffer)\n",
        "\n",
        "  def append(self, experience):\n",
        "      self.buffer.append(experience)\n",
        "\n",
        "  def sample(self, batch_size):\n",
        "    with torch.no_grad():\n",
        "      indices = np.random.choice(len(self.buffer), batch_size,replace=False)\n",
        "      states=[]\n",
        "      actions=[]\n",
        "      rewards=[]\n",
        "      dones=[]\n",
        "      next_states=[]\n",
        "      for idx in indices:\n",
        "        s,a,r,d,n=self.buffer[idx]\n",
        "        if len(s) == 2:\n",
        "          s = s[0]\n",
        "        states.append(s)\n",
        "        actions.append(a)\n",
        "        rewards.append(r)\n",
        "        dones.append(d)\n",
        "        next_states.append(n)\n",
        "\n",
        "      # Make sure the sequences have consistent lengths along the second dimension\n",
        "      states = torch.Tensor(states)\n",
        "      actions = torch.Tensor(actions)\n",
        "      rewards = torch.Tensor(rewards).type(torch.float64)\n",
        "      dones = torch.Tensor(dones).type(torch.float64)\n",
        "      next_states = torch.Tensor(next_states)\n",
        "\n",
        "      # Now, you can return these tensors\n",
        "      return states, actions, rewards, dones, next_states\n",
        "\n"
      ]
    },
    {
      "cell_type": "markdown",
      "metadata": {
        "id": "4RX9Dm-CmKRl"
      },
      "source": [
        "<br> __Modify only the sections indicated__\n",
        "\n",
        "<br> A class called Agent is defined below that implements a Q-Learning agent:\n",
        "<br>This class implements the following functions:\n",
        "<br>fill_buffer(): Fills the buffer with a selected amount of state action pairs, the last episode during generation of state action pairs is saved\n",
        "<br>rand_fill_buffer(): Fills the buffer by takeing random actions in the environment\n",
        "<br>mean_reward(): calculates the mean reward achieved by the agent for a defined amount of episodes\n",
        "<br>show_video(): function used to display video in notebook\n",
        "<br>video(): record actions from agent and create videos\n",
        "<br>load_save(): can be used to load a saved checkpoint to resume training, can be used to train a agent past the colab time limit.\n",
        "You will need to implement the epsilon greed policy as well as the Q learning loss function.\n"
      ]
    },
    {
      "cell_type": "markdown",
      "metadata": {
        "id": "Zv3NklC_sXix"
      },
      "source": [
        "# Only edit the code in the comment blocks \"TODO:\" is indicated. This appears in the fill_buffer() function where you will implement the epsilon greedy function and the train function where you will implement the loss function for Q-Learning."
      ]
    },
    {
      "cell_type": "code",
      "execution_count": null,
      "metadata": {
        "id": "DXmUK8i_dyDh"
      },
      "outputs": [],
      "source": [
        "from torch._C import device\n",
        "from pyvirtualdisplay import Display\n",
        "from gym.wrappers import RecordVideo\n",
        "\n",
        "class Agent:\n",
        "  def __init__(self, env, Network):\n",
        "    self.env=env\n",
        "    self.net=Network()\n",
        "    self.target_net=Network()\n",
        "    self.target_net_update_freq=50 #update target net every 50 iters\n",
        "    self.buffer=ExperienceReplay(15000) #Size of Experience buffer is set to 15000 state action pairs\n",
        "    self.fill_buffer_size=1000 #initial fill buffer, during training this is automatically set to 1 episode worth of state action pairs\n",
        "    self.initial_buffer_exp=1000 #this controls how many random actions to take in the env to initially fill the buffer, the exact amount will vary as the last episode is rolled out to completion\n",
        "    self.epsilon=1.0 #epsilon is initially set to 1.0 the slowly decayed\n",
        "    self.eps_decay=.9999 #we decay epsilon by using the following formula epsilon=epsilon*eps_decay , this is automatically done no need to implement\n",
        "    self.eps_min=0.02 #minimum epsilon value\n",
        "    self.batch_size=10 #batch size, number of experiences we feed the Q-Learning Network during trainnig\n",
        "\n",
        "    #implementation  variables to store loss, reward, and set device\n",
        "    self.device=torch.device('cuda' if torch.cuda.is_available() else 'cpu')\n",
        "    self.net.to(self.device)\n",
        "    self.target_net.to(self.device)\n",
        "    self.loss_list=[]\n",
        "    self.loss_list_idx=[]\n",
        "    self.reward_list=[]\n",
        "    self.reward_list_idx=[]\n",
        "\n",
        "    self.rand_fill_buffer()\n",
        "    self.gamma=torch.tensor(0.99,dtype=torch.float64)\n",
        "    isExist = os.path.exists(\"checkpoint\")\n",
        "    if not isExist:\n",
        "      os.makedirs(\"checkpoint\")\n",
        "  #fills the replay buffer with state action pairs defined by self.fill_buffer_size\n",
        "  #Epsilon greedy policy must be defined here\n",
        "  def fill_buffer(self):\n",
        "    steps=0\n",
        "    not_full = True\n",
        "    with torch.no_grad():\n",
        "        while not_full:\n",
        "          if steps>self.fill_buffer_size:\n",
        "            not_full=False\n",
        "          episode_done=False\n",
        "          state=self.env.reset()[0]\n",
        "\n",
        "          while not episode_done:\n",
        "            #############################################################################\n",
        "            # TODO: Select action based on epsilon greed policy.                        #\n",
        "            # Set the action variable from None to the correct action.                  #\n",
        "            # The following variables can be used:                                      #\n",
        "            # np.random.random() This is a random number from 0 to 1                    #\n",
        "            # self.epsilon This is the epsilon value                                    #\n",
        "            # random_action A random action that can be taken in the environment        #\n",
        "            # agent_action The action the Q learning agent would take                   #\n",
        "            #############################################################################\n",
        "\n",
        "\n",
        "            action = None\n",
        "            random_action = self.env.action_space.sample()\n",
        "            net_out = self.net(torch.unsqueeze(torch.tensor(state, dtype=torch.float32).to(self.device), 0))\n",
        "            agent_action = int(torch.max(net_out, dim=1)[1].detach())\n",
        "            action =  agent_action if  np.random.random() > self.epsilon else random_action\n",
        "\n",
        "\n",
        "            #############################################################################\n",
        "            self.epsilon = max(self.epsilon*self.eps_decay, self.eps_min)\n",
        "            new_state, reward, is_done, truncated = self.env.step(action)[0:-1]\n",
        "            len(new_state)\n",
        "            exp = Experience(state,action,reward,is_done,new_state)\n",
        "            self.buffer.append(exp)\n",
        "            steps+=1\n",
        "            #pbar2.update(1)\n",
        "            episode_done=is_done or truncated\n",
        "            state=new_state\n",
        "\n",
        "#fill buffer with random actions defined by self.initial_buffer_exp\n",
        "  def rand_fill_buffer(self):\n",
        "    steps=0\n",
        "    not_full = True\n",
        "    print(\"filling buffer with random actions\")\n",
        "    with tqdm(total=self.initial_buffer_exp) as pbar:\n",
        "      while not_full:\n",
        "          if steps>self.initial_buffer_exp:\n",
        "            not_full=False\n",
        "          # get experience from 1 episode\n",
        "          episode_done=False\n",
        "          state=self.env.reset()[0]\n",
        "\n",
        "          while not episode_done:\n",
        "            #random action\n",
        "            action = self.env.action_space.sample()\n",
        "            new_state, reward, is_done, truncated, _ = self.env.step(action)\n",
        "            #exp = Experience(state,action,reward,is_done,new_state)\n",
        "            exp=[state,action,reward,is_done,new_state]\n",
        "            self.buffer.append(exp)\n",
        "            steps+=1\n",
        "            pbar.update(1)\n",
        "            #print(steps)\n",
        "            episode_done=is_done or truncated\n",
        "            state=new_state\n",
        "\n",
        "#calculate mean reward for 20 episodes\n",
        "  def mean_reward(self):\n",
        "    #average reward selected number of episodes\n",
        "    rewards=0\n",
        "    episodes=20\n",
        "    ep_len=1\n",
        "    for ep in range(episodes):\n",
        "        episode_done=False\n",
        "        state=torch.tensor(self.env.reset()[0]).type(torch.float32)\n",
        "        while not episode_done:\n",
        "          out=torch.unsqueeze(torch.tensor(state),0)\n",
        "          action=self.net(out.to(self.device))\n",
        "          action=int(torch.max(action,dim=1)[1])\n",
        "          new_state, reward, is_done, truncated = self.env.step(action)[0:-1]\n",
        "          ep_len+=1\n",
        "          episode_done=is_done or truncated\n",
        "          rewards+=reward\n",
        "          state=torch.Tensor(new_state).type(torch.float32)\n",
        "\n",
        "    print(\"average episode time steps: \"+str(ep_len/episodes))\n",
        "    return rewards/episodes\n",
        "\n",
        "#used to load video in notebook\n",
        "  def show_videos(self,path=\"videos/agent_actions\"):\n",
        "    html = []\n",
        "    for mp4 in Path(path).glob(\"*.mp4\"):\n",
        "        video_b64 = base64.b64encode(mp4.read_bytes())\n",
        "        html.append('''<video alt=\"{}\" autoplay\n",
        "                      loop controls style=\"height: 400px;\">\n",
        "                      <source src=\"data:video/mp4;base64,{}\" type=\"video/mp4\" />\n",
        "                 </video>'''.format(mp4, video_b64.decode('ascii')))\n",
        "    ipythondisplay.display(ipythondisplay.HTML(data=\"<br>\".join(html)))\n",
        "\n",
        "#record and display video of agent taking actions in environment\n",
        "  def video(self):\n",
        "    display = Display(visible=0, size=(400, 300))\n",
        "    display.start()\n",
        "    def record_videos(env, path=\"videos/agent_actions\"):\n",
        "        wrapped = RecordVideo(env, path)\n",
        "\n",
        "        # Capture intermediate frames\n",
        "        env.unwrapped.set_record_video_wrapper(wrapped)\n",
        "\n",
        "        return wrapped\n",
        "    env = gym.make(\"highway-fast-v0\", render_mode='rgb_array')\n",
        "    env.configure({\n",
        "        \"observation\": {\n",
        "            \"type\": \"GrayscaleObservation\",\n",
        "            \"observation_shape\": (128, 64),\n",
        "            \"stack_size\": 4,\n",
        "            \"weights\": [0.2989, 0.5870, 0.1140],\n",
        "            \"scaling\": 1.75,\n",
        "        },\n",
        "    })\n",
        "    env = record_videos(env)\n",
        "    for episode in range(3):\n",
        "        state, done = env.reset()[0], False\n",
        "        state=torch.tensor(state).type(torch.float32)\n",
        "        while not done:\n",
        "          out=torch.unsqueeze(torch.tensor(state),0)\n",
        "          action=self.net(out.to(self.device))\n",
        "          action=int(torch.max(action,dim=1)[1])\n",
        "          state, reward, done, info = env.step(int(action))\n",
        "          state=torch.Tensor(state).type(torch.float32)\n",
        "\n",
        "    env.close()\n",
        "    self.show_videos()\n",
        "\n",
        "#load saved checkpoint to extend training past 3000\n",
        "  def load_save(self,save_path):\n",
        "    self.net.load_state_dict(torch.load(save_path))\n",
        "    self.target_net.load_state_dict(torch.load(save_path))\n",
        "\n",
        "#Used to train the Q-Learning Agent\n",
        "#The loss function must be defined here\n",
        "  def train(self,total_iterations):\n",
        "    optimizer = torch.optim.Adam(self.net.parameters(),lr=5e-4)\n",
        "    self.fill_buffer_size=1\n",
        "    # loss = nn.MSELoss()\n",
        "    for idx in range(total_iterations):\n",
        "\n",
        "      #fill buffer with exp using model and epsilon greedy policy\n",
        "      self.fill_buffer()\n",
        "\n",
        "      #We take a random batch from the replay buffer\n",
        "      batch=self.buffer.sample(self.batch_size)\n",
        "      #unpack batch\n",
        "\n",
        "\n",
        "      #use these variable to calculate loss for Q function\n",
        "      state,action,reward,is_done,next_state=batch\n",
        "\n",
        "      #############################################################################\n",
        "      # TODO: Calculate Q value, target Q value, and Loss for Q Learning          #\n",
        "      # refer to lecture 17 and the following links:                     #\n",
        "      # https://pytorch.org/tutorials/intermediate/reinforcement_q_learning.html  #\n",
        "      # https://arxiv.org/pdf/1312.5602v1.pdf                                     #\n",
        "      # Note: Use Mean Squared Error for Loss, DO NOT use Huber Loss              #\n",
        "      # use the following variables:                                              #\n",
        "      # self.net() :This is the current netowkr used to aproximate the Q function #\n",
        "      # self.target_net() :This is the target network used in the Q learning loss #\n",
        "      # state :This is the current state                                          #\n",
        "      # action :This is the action taken in the current state                     #\n",
        "      # reward :This is the reward for taking the action in the current state     #\n",
        "      #         and going to the next_state                                       #\n",
        "      # is_done :Boolean value of 0 if not done and 1 if done                     #\n",
        "      # next_state :next state for taking action in current state                 #\n",
        "      # Note: all of these variables have a batch dimension first                 #\n",
        "      #############################################################################\n",
        "      # IMPORTANT:                                                                #\n",
        "      # Please refer to Algorithm 1 in the DQN paper to understand                #\n",
        "      # how to calculate the Loss for a terminal state, when done is set to True/1#\n",
        "      #############################################################################\n",
        "      #compute Q value\n",
        "      #give state to net and select action\n",
        "      state = state.to(self.device)\n",
        "      action = action.to(self.device)\n",
        "      reward = reward.to(self.device)\n",
        "      is_done = is_done.to(self.device)\n",
        "      next_state = next_state.to(self.device)\n",
        "\n",
        "      with torch.no_grad():\n",
        "        clist = self.net(state)\n",
        "        nlist = self.target_net(next_state)\n",
        "\n",
        "      self.net.train()\n",
        "      y_true = []\n",
        "\n",
        "      for i, (_, a, r, d, _) in enumerate(zip(state, action, reward, is_done, next_state)):\n",
        "          new_q = r + self.gamma*(torch.max(nlist[i])) if not d else r\n",
        "\n",
        "          c_q = clist[i]\n",
        "          c_q[int(a.item())] = new_q\n",
        "          c_q = c_q.detach().cpu().numpy().tolist()\n",
        "          y_true.append(c_q)\n",
        "\n",
        "      y_true = torch.tensor(y_true, dtype=torch.float).to(self.device)\n",
        "      y_pred = self.net(state)\n",
        "      loss_fn = nn.MSELoss()\n",
        "\n",
        "      # ... [inside your training loop]\n",
        "      y_true = torch.tensor(y_true, dtype=torch.float).to(self.device)\n",
        "      y_pred = self.net(state)\n",
        "\n",
        "      # Calculate Loss\n",
        "      loss = loss_fn(y_pred, y_true)\n",
        "\n",
        "\n",
        "\n",
        "\n",
        "      #calculate expected value using target network\n",
        "      #value if state is done is just the reward\n",
        "\n",
        "\n",
        "\n",
        "\n",
        "      #############################################################################\n",
        "\n",
        "      self.loss_list.append(loss.detach().clone().cpu() )\n",
        "      self.loss_list_idx.append(idx+1)\n",
        "      optimizer.zero_grad()\n",
        "      loss.backward()\n",
        "\n",
        "      torch.nn.utils.clip_grad_norm_(self.net.parameters(), 10)\n",
        "      optimizer.step()\n",
        "\n",
        "      if (idx+1)%self.target_net_update_freq==0:\n",
        "        print(\"iteration count = \"+str(idx+1))\n",
        "        print(\"update target net\")\n",
        "        mean_rewards=self.mean_reward()\n",
        "        self.reward_list.append(mean_rewards)\n",
        "        self.reward_list_idx.append(idx+1)\n",
        "        print(\"mean reward \"+str(mean_rewards))\n",
        "        #update target net here\n",
        "        self.target_net.load_state_dict(self.net.state_dict())\n",
        "        #save model every 500 iterations\n",
        "        if (idx+1)%500==0:\n",
        "          torch.save(self.net.state_dict(), \"checkpoint/reward_\"+str(int(mean_rewards)) +\"_iteration_\"+ str(idx+1) + \"_model.pt\" )\n",
        "\n",
        "    return\n"
      ]
    },
    {
      "cell_type": "markdown",
      "metadata": {
        "id": "PDO2RanFsXix"
      },
      "source": [
        "Run the following cells to train your Q-Learning agent for 3000 iterations. A video will be saved in the videos/agent_actions folder."
      ]
    },
    {
      "cell_type": "code",
      "execution_count": null,
      "metadata": {
        "colab": {
          "base_uri": "https://localhost:8080/"
        },
        "id": "9MGChjkYdztq",
        "outputId": "e8be7789-bae7-4bc6-f823-3c474579cb94"
      },
      "outputs": [
        {
          "name": "stderr",
          "output_type": "stream",
          "text": [
            "/usr/local/lib/python3.10/dist-packages/gymnasium/core.py:311: UserWarning: \u001b[33mWARN: env.configure to get variables from other wrappers is deprecated and will be removed in v1.0, to get this variable you can do `env.unwrapped.configure` for environment variables or `env.get_wrapper_attr('configure')` that will search the reminding wrappers.\u001b[0m\n",
            "  logger.warn(\n"
          ]
        },
        {
          "name": "stdout",
          "output_type": "stream",
          "text": [
            "filling buffer with random actions\n"
          ]
        },
        {
          "name": "stderr",
          "output_type": "stream",
          "text": [
            "1014it [00:46, 21.87it/s]\n"
          ]
        }
      ],
      "source": [
        "#We create an instance of the environment here\n",
        "env = gym.make(\"highway-fast-v0\", render_mode='rgb_array')\n",
        "env.configure({\n",
        "    \"observation\": {\n",
        "        \"type\": \"GrayscaleObservation\",\n",
        "        \"observation_shape\": (128, 64),\n",
        "        \"stack_size\": 4,\n",
        "        \"weights\": [0.2989, 0.5870, 0.1140],  # weights for RGB conversion\n",
        "        \"scaling\": 1.75,\n",
        "    },\n",
        "})\n",
        "\n",
        "# We will create an object from the Agent class called Q_agent\n",
        "# We use this object's train function to train our Agent and display a video of the trained Agent\n",
        "Q_agent=Agent(env,Network)\n"
      ]
    },
    {
      "cell_type": "code",
      "execution_count": null,
      "metadata": {
        "colab": {
          "base_uri": "https://localhost:8080/"
        },
        "id": "eeTTKUkvZysA",
        "outputId": "5dbc9727-1fd0-4686-b64f-65a07dc54dcb"
      },
      "outputs": [
        {
          "name": "stderr",
          "output_type": "stream",
          "text": [
            "/usr/local/lib/python3.10/dist-packages/ipykernel/ipkernel.py:283: DeprecationWarning: `should_run_async` will not call `transform_cell` automatically in the future. Please pass the result to `transformed_cell` argument and any exception that happen during thetransform in `preprocessing_exc_tuple` in IPython 7.17 and above.\n",
            "  and should_run_async(code)\n",
            "<ipython-input-8-9a5a46eec7c0>:37: UserWarning: Creating a tensor from a list of numpy.ndarrays is extremely slow. Please consider converting the list to a single numpy.ndarray with numpy.array() before converting to a tensor. (Triggered internally at ../torch/csrc/utils/tensor_new.cpp:261.)\n",
            "  states = torch.Tensor(states)\n",
            "<ipython-input-9-54694e33be65>:242: UserWarning: To copy construct from a tensor, it is recommended to use sourceTensor.clone().detach() or sourceTensor.clone().detach().requires_grad_(True), rather than torch.tensor(sourceTensor).\n",
            "  y_true = torch.tensor(y_true, dtype=torch.float).to(self.device)\n"
          ]
        },
        {
          "name": "stdout",
          "output_type": "stream",
          "text": [
            "iteration count = 50\n",
            "update target net\n"
          ]
        },
        {
          "name": "stderr",
          "output_type": "stream",
          "text": [
            "<ipython-input-9-54694e33be65>:111: UserWarning: To copy construct from a tensor, it is recommended to use sourceTensor.clone().detach() or sourceTensor.clone().detach().requires_grad_(True), rather than torch.tensor(sourceTensor).\n",
            "  out=torch.unsqueeze(torch.tensor(state),0)\n"
          ]
        },
        {
          "name": "stdout",
          "output_type": "stream",
          "text": [
            "average episode time steps: 12.6\n",
            "mean reward 9.660000000000018\n",
            "iteration count = 100\n",
            "update target net\n",
            "average episode time steps: 12.95\n",
            "mean reward 9.981666666666687\n",
            "iteration count = 150\n",
            "update target net\n",
            "average episode time steps: 7.2\n",
            "mean reward 6.030818133389387\n",
            "iteration count = 200\n",
            "update target net\n",
            "average episode time steps: 12.6\n",
            "mean reward 9.302626693695252\n",
            "iteration count = 250\n",
            "update target net\n",
            "average episode time steps: 6.7\n",
            "mean reward 5.521167760001718\n",
            "iteration count = 300\n",
            "update target net\n",
            "average episode time steps: 7.6\n",
            "mean reward 6.402285154307881\n"
          ]
        }
      ],
      "source": [
        "Q_agent.train(300)"
      ]
    },
    {
      "cell_type": "code",
      "execution_count": null,
      "metadata": {
        "colab": {
          "base_uri": "https://localhost:8080/"
        },
        "id": "oZr8M1bcZyhe",
        "outputId": "174ef018-09fc-40f2-addd-d9f1f3c8d21e"
      },
      "outputs": [
        {
          "name": "stderr",
          "output_type": "stream",
          "text": [
            "/usr/local/lib/python3.10/dist-packages/ipykernel/ipkernel.py:283: DeprecationWarning: `should_run_async` will not call `transform_cell` automatically in the future. Please pass the result to `transformed_cell` argument and any exception that happen during thetransform in `preprocessing_exc_tuple` in IPython 7.17 and above.\n",
            "  and should_run_async(code)\n",
            "/usr/local/lib/python3.10/dist-packages/gymnasium/core.py:311: UserWarning: \u001b[33mWARN: env.configure to get variables from other wrappers is deprecated and will be removed in v1.0, to get this variable you can do `env.unwrapped.configure` for environment variables or `env.get_wrapper_attr('configure')` that will search the reminding wrappers.\u001b[0m\n",
            "  logger.warn(\n",
            "/usr/local/lib/python3.10/dist-packages/gym/core.py:317: DeprecationWarning: \u001b[33mWARN: Initializing wrapper in old step API which returns one bool instead of two. It is recommended to set `new_step_api=True` to use new step API. This will be the default behaviour in future.\u001b[0m\n",
            "  deprecation(\n",
            "/usr/local/lib/python3.10/dist-packages/gymnasium/core.py:311: UserWarning: \u001b[33mWARN: env.is_vector_env to get variables from other wrappers is deprecated and will be removed in v1.0, to get this variable you can do `env.unwrapped.is_vector_env` for environment variables or `env.get_wrapper_attr('is_vector_env')` that will search the reminding wrappers.\u001b[0m\n",
            "  logger.warn(\n",
            "<ipython-input-9-54694e33be65>:160: UserWarning: To copy construct from a tensor, it is recommended to use sourceTensor.clone().detach() or sourceTensor.clone().detach().requires_grad_(True), rather than torch.tensor(sourceTensor).\n",
            "  out=torch.unsqueeze(torch.tensor(state),0)\n",
            "<ipython-input-9-54694e33be65>:160: UserWarning: To copy construct from a tensor, it is recommended to use sourceTensor.clone().detach() or sourceTensor.clone().detach().requires_grad_(True), rather than torch.tensor(sourceTensor).\n",
            "  out=torch.unsqueeze(torch.tensor(state),0)\n"
          ]
        },
        {
          "data": {
            "text/html": [
              "<video alt=\"videos/agent_actions/rl-video-episode-0.mp4\" autoplay\n",
              "                      loop controls style=\"height: 400px;\">\n",
              "                      <source src=\"data:video/mp4;base64,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\" type=\"video/mp4\" />\n",
              "                 </video><br><video alt=\"videos/agent_actions/rl-video-episode-1.mp4\" autoplay\n",
              "                      loop controls style=\"height: 400px;\">\n",
              "                      <source src=\"data:video/mp4;base64,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\" type=\"video/mp4\" />\n",
              "                 </video>"
            ],
            "text/plain": [
              "<IPython.core.display.HTML object>"
            ]
          },
          "metadata": {},
          "output_type": "display_data"
        }
      ],
      "source": [
        "Q_agent.video()"
      ]
    },
    {
      "cell_type": "markdown",
      "metadata": {
        "id": "UZdXXDAKsXiy"
      },
      "source": [
        "The following cell will display the reward your agent achieved during training vs the iterations it has completed\n"
      ]
    },
    {
      "cell_type": "code",
      "execution_count": null,
      "metadata": {
        "colab": {
          "base_uri": "https://localhost:8080/"
        },
        "id": "mJEvOlXevEwp",
        "outputId": "8b87d171-1173-4577-a135-2b1c59d43099"
      },
      "outputs": [
        {
          "name": "stderr",
          "output_type": "stream",
          "text": [
            "/usr/local/lib/python3.10/dist-packages/ipykernel/ipkernel.py:283: DeprecationWarning: `should_run_async` will not call `transform_cell` automatically in the future. Please pass the result to `transformed_cell` argument and any exception that happen during thetransform in `preprocessing_exc_tuple` in IPython 7.17 and above.\n",
            "  and should_run_async(code)\n"
          ]
        },
        {
          "data": {
            "image/png": "[encoded data removed]",
            "text/plain": [
              "<Figure size 640x480 with 1 Axes>"
            ]
          },
          "metadata": {},
          "output_type": "display_data"
        }
      ],
      "source": [
        "plt.plot(Q_agent.reward_list_idx,Q_agent.reward_list)\n",
        "plt.show()"
      ]
    },
    {
      "cell_type": "markdown",
      "metadata": {
        "id": "0Js238kUsXiy"
      },
      "source": [
        "The following cell will display the loss calculated for your agent during training vs the iterations it has completed"
      ]
    },
    {
      "cell_type": "code",
      "execution_count": null,
      "metadata": {
        "colab": {
          "base_uri": "https://localhost:8080/",
          "height": 430
        },
        "id": "5WcNF5gvvL8S",
        "outputId": "c42578b9-fea3-4831-b2f9-4b136e9108d4"
      },
      "outputs": [
        {
          "data": {
            "image/png": "[encoded data removed]",
            "text/plain": [
              "<Figure size 640x480 with 1 Axes>"
            ]
          },
          "metadata": {},
          "output_type": "display_data"
        }
      ],
      "source": [
        "plt.plot(Q_agent.loss_list_idx,Q_agent.loss_list)\n",
        "plt.show()"
      ]
    },
    {
      "cell_type": "code",
      "execution_count": null,
      "metadata": {
        "id": "_6HiF-fA2Vo3"
      },
      "outputs": [],
      "source": []
    }
  ],
  "metadata": {
    "colab": {
      "gpuType": "T4",
      "provenance": [],
      "toc_visible": true
    },
    "kernel_info": {
      "name": "python"
    },
    "kernelspec": {
      "display_name": "Pyolite (preview)",
      "language": "python",
      "name": "python"
    },
    "language_info": {
      "codemirror_mode": {
        "name": "python",
        "version": 3
      },
      "file_extension": ".py",
      "mimetype": "text/x-python",
      "name": "python",
      "nbconvert_exporter": "python",
      "pygments_lexer": "ipython3",
      "version": "3.8"
    },
    "nteract": {
      "version": "nteract-front-end@1.0.0"
    }
  },
  "nbformat": 4,
  "nbformat_minor": 0
}
